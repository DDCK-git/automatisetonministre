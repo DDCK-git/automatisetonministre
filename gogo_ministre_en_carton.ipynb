{
 "cells": [
  {
   "cell_type": "code",
   "execution_count": null,
   "id": "000a5714",
   "metadata": {},
   "outputs": [],
   "source": [
    "from subprocess import Popen\n",
    "\n",
    "def load_jupyter_server_extension(nbapp):\n",
    "    \"\"\"serve the automatisetonministre.ipynb directory with bokeh server\"\"\"\n",
    "    Popen([\"panel\", \"serve\", \"automatise_ton_ministre.ipynb\", \"--allow-websocket-origin=*\"])"
   ]
  }
 ],
 "metadata": {
  "kernelspec": {
   "display_name": "Python 3 (ipykernel)",
   "language": "python",
   "name": "python3"
  },
  "language_info": {
   "codemirror_mode": {
    "name": "ipython",
    "version": 3
   },
   "file_extension": ".py",
   "mimetype": "text/x-python",
   "name": "python",
   "nbconvert_exporter": "python",
   "pygments_lexer": "ipython3",
   "version": "3.10.6"
  }
 },
 "nbformat": 4,
 "nbformat_minor": 5
}
